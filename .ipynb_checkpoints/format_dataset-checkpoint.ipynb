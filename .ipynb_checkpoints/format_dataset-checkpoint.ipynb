{
 "cells": [
  {
   "cell_type": "code",
   "execution_count": null,
   "id": "0f3eed89-753f-41e4-b125-01df98d2d77d",
   "metadata": {},
   "outputs": [],
   "source": [
    "import pandas as pd"
   ]
  },
  {
   "cell_type": "code",
   "execution_count": null,
   "id": "9eccfbcd-7a11-4548-bd48-78ea3d2fa143",
   "metadata": {},
   "outputs": [],
   "source": [
    "df = pd.read_csv(\"../"
   ]
  }
 ],
 "metadata": {
  "kernelspec": {
   "display_name": "py39",
   "language": "python",
   "name": "py39"
  },
  "language_info": {
   "name": ""
  }
 },
 "nbformat": 4,
 "nbformat_minor": 5
}
